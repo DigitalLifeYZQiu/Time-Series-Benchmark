{
 "cells": [
  {
   "metadata": {},
   "cell_type": "markdown",
   "source": [
    "# 时间序列模型筛选过程示例\n",
    "\n",
    "## 1. 导入依赖库\n",
    "模型测试结果将存储在项目根路径`results.db`中。"
   ],
   "id": "5b182bb79297e28b"
  },
  {
   "cell_type": "code",
   "id": "initial_id",
   "metadata": {
    "collapsed": true,
    "ExecuteTime": {
     "end_time": "2024-10-29T13:26:42.021368Z",
     "start_time": "2024-10-29T13:26:42.009405Z"
    }
   },
   "source": "import sqlite3",
   "outputs": [],
   "execution_count": 1
  },
  {
   "metadata": {},
   "cell_type": "markdown",
   "source": [
    "## 2. 连接数据库\n",
    "\n",
    "使用`sqlite3.connect`方法连接数据库，若数据库未事先创建，代码将自动创建空数据库。"
   ],
   "id": "13a8727fdb527088"
  },
  {
   "metadata": {
    "ExecuteTime": {
     "end_time": "2024-10-29T13:26:42.092921Z",
     "start_time": "2024-10-29T13:26:42.071538Z"
    }
   },
   "cell_type": "code",
   "source": "conn = sqlite3.connect('results.db')",
   "id": "49f40f19fdaa34bc",
   "outputs": [],
   "execution_count": 2
  },
  {
   "metadata": {},
   "cell_type": "markdown",
   "source": [
    "## 3. 创建游标对象\n",
    "连接数据库后，使用`cursor()`方法创建游标对象，为后续执行SQL命令做准备。"
   ],
   "id": "c5091adb9c376ad1"
  },
  {
   "metadata": {
    "ExecuteTime": {
     "end_time": "2024-10-29T13:26:42.247248Z",
     "start_time": "2024-10-29T13:26:42.244291Z"
    }
   },
   "cell_type": "code",
   "source": "cursor = conn.cursor()",
   "id": "b84123fdb60d1470",
   "outputs": [],
   "execution_count": 3
  },
  {
   "metadata": {},
   "cell_type": "markdown",
   "source": [
    "## 4. 创建数据库表\n",
    "使用`cursor.execute()`方法在python中执行`sqlite`命令。此处创建了一个名为`Results`的数据表，表中数据条目如下：\n",
    "- `id`：数据记录序号，整数类型。是数据表主键。\n",
    "- `model_name`：测试模型名称，文本类型。\n",
    "- `task_type`：测试任务类型名称，文本类型。测试任务类型限制为五种主要的任务之一（短期预测、长期预测、分类、异常检测、填补）\n",
    "- `dataset_name `：测试数据集名称，文本类型。\n",
    "- `seq_len`：测试数据输入长度，整数类型。\n",
    "- `metric`：测试评估算法，文本类型。\n",
    "- `value`：测试评估结果，实数类型。\n"
   ],
   "id": "c82a41b093fb27ea"
  },
  {
   "metadata": {
    "ExecuteTime": {
     "end_time": "2024-10-29T13:26:42.326915Z",
     "start_time": "2024-10-29T13:26:42.313762Z"
    }
   },
   "cell_type": "code",
   "source": [
    "cursor.execute('''\n",
    "    CREATE TABLE IF NOT EXISTS Results (\n",
    "        id INTEGER PRIMARY KEY,\n",
    "        model_name TEXT,\n",
    "        task_type TEXT CHECK(task_type IN ('classification', 'long-term-forecast', 'short-term-forecast', 'anomaly', 'imputation')),\n",
    "        dataset_name TEXT,\n",
    "        seq_len INTEGER,\n",
    "        metric TEXT,\n",
    "        value REAL\n",
    "    )\n",
    "''')"
   ],
   "id": "204b42d42d8ec1fb",
   "outputs": [
    {
     "data": {
      "text/plain": [
       "<sqlite3.Cursor at 0x7f9c76d260c0>"
      ]
     },
     "execution_count": 4,
     "metadata": {},
     "output_type": "execute_result"
    }
   ],
   "execution_count": 4
  },
  {
   "metadata": {},
   "cell_type": "markdown",
   "source": [
    "## 5. 数据构建与数据库写入\n",
    "数据记录以元组列表形式存储，在下面的代码块中，我们创建了一个名为`data_example`的样例数据。这个数据中包含了TimesNet、Dlinear与Informer在ECL数据长期预测任务上输入长度96设置场景下的MSE结果。我们使用cursor.executemany()方法将包含多条数据的dataexample插入数据库中。\n"
   ],
   "id": "3e2e1b78c8e1fa51"
  },
  {
   "metadata": {
    "ExecuteTime": {
     "end_time": "2024-10-29T13:26:42.553368Z",
     "start_time": "2024-10-29T13:26:42.388254Z"
    }
   },
   "cell_type": "code",
   "source": [
    "long_forecast_data = [\n",
    "    # TimesNet Model\n",
    "    ('TimesNet', 'long-term-forecast', 'ECL', 96, 'MSE', 0.168),\n",
    "    ('TimesNet', 'long-term-forecast', 'ECL', 96, 'MAE', 0.272),\n",
    "    ('TimesNet', 'long-term-forecast', 'ECL', 192, 'MSE', 0.184),\n",
    "    ('TimesNet', 'long-term-forecast', 'ECL', 192, 'MAE', 0.289),\n",
    "    ('TimesNet', 'long-term-forecast', 'ECL', 336, 'MSE', 0.198),\n",
    "    ('TimesNet', 'long-term-forecast', 'ECL', 336, 'MAE', 0.300),\n",
    "    ('TimesNet', 'long-term-forecast', 'ECL', 720, 'MSE', 0.220),\n",
    "    ('TimesNet', 'long-term-forecast', 'ECL', 720, 'MAE', 0.320),\n",
    "    \n",
    "    ('TimesNet', 'long-term-forecast', 'Traffic', 96, 'MSE', 0.593),\n",
    "    ('TimesNet', 'long-term-forecast', 'Traffic', 96, 'MAE', 0.321),\n",
    "    ('TimesNet', 'long-term-forecast', 'Traffic', 192, 'MSE', 0.617),\n",
    "    ('TimesNet', 'long-term-forecast', 'Traffic', 192, 'MAE', 0.336),\n",
    "    ('TimesNet', 'long-term-forecast', 'Traffic', 336, 'MSE', 0.629),\n",
    "    ('TimesNet', 'long-term-forecast', 'Traffic', 336, 'MAE', 0.336),\n",
    "    ('TimesNet', 'long-term-forecast', 'Traffic', 720, 'MSE', 0.640),\n",
    "    ('TimesNet', 'long-term-forecast', 'Traffic', 720, 'MAE', 0.350),\n",
    "    \n",
    "    ('TimesNet', 'long-term-forecast', 'Weather', 96, 'MSE', 0.172),\n",
    "    ('TimesNet', 'long-term-forecast', 'Weather', 96, 'MAE', 0.220),\n",
    "    ('TimesNet', 'long-term-forecast', 'Weather', 192, 'MSE', 0.219),\n",
    "    ('TimesNet', 'long-term-forecast', 'Weather', 192, 'MAE', 0.261),\n",
    "    ('TimesNet', 'long-term-forecast', 'Weather', 336, 'MSE', 0.280),\n",
    "    ('TimesNet', 'long-term-forecast', 'Weather', 336, 'MAE', 0.306),\n",
    "    ('TimesNet', 'long-term-forecast', 'Weather', 720, 'MSE', 0.365),\n",
    "    ('TimesNet', 'long-term-forecast', 'Weather', 720, 'MAE', 0.359),\n",
    "    \n",
    "    # DLinear Model\n",
    "    ('DLinear', 'long-term-forecast', 'ECL', 96, 'MSE', 0.197),\n",
    "    ('DLinear', 'long-term-forecast', 'ECL', 96, 'MAE', 0.282),\n",
    "    ('DLinear', 'long-term-forecast', 'ECL', 192, 'MSE', 0.196),\n",
    "    ('DLinear', 'long-term-forecast', 'ECL', 192, 'MAE', 0.285),\n",
    "    ('DLinear', 'long-term-forecast', 'ECL', 336, 'MSE', 0.209),\n",
    "    ('DLinear', 'long-term-forecast', 'ECL', 336, 'MAE', 0.301),\n",
    "    ('DLinear', 'long-term-forecast', 'ECL', 720, 'MSE', 0.245),\n",
    "    ('DLinear', 'long-term-forecast', 'ECL', 720, 'MAE', 0.333),\n",
    "    \n",
    "    ('DLinear', 'long-term-forecast', 'Traffic', 96, 'MSE', 0.650),\n",
    "    ('DLinear', 'long-term-forecast', 'Traffic', 96, 'MAE', 0.396),\n",
    "    ('DLinear', 'long-term-forecast', 'Traffic', 192, 'MSE', 0.598),\n",
    "    ('DLinear', 'long-term-forecast', 'Traffic', 192, 'MAE', 0.370),\n",
    "    ('DLinear', 'long-term-forecast', 'Traffic', 336, 'MSE', 0.605),\n",
    "    ('DLinear', 'long-term-forecast', 'Traffic', 336, 'MAE', 0.373),\n",
    "    ('DLinear', 'long-term-forecast', 'Traffic', 720, 'MSE', 0.645),\n",
    "    ('DLinear', 'long-term-forecast', 'Traffic', 720, 'MAE', 0.394),\n",
    "\n",
    "    ('DLinear', 'long-term-forecast', 'Weather', 96, 'MSE', 0.196),\n",
    "    ('DLinear', 'long-term-forecast', 'Weather', 96, 'MAE', 0.255),\n",
    "    ('DLinear', 'long-term-forecast', 'Weather', 192, 'MSE', 0.237),\n",
    "    ('DLinear', 'long-term-forecast', 'Weather', 192, 'MAE', 0.296),\n",
    "    ('DLinear', 'long-term-forecast', 'Weather', 336, 'MSE', 0.283),\n",
    "    ('DLinear', 'long-term-forecast', 'Weather', 336, 'MAE', 0.335),\n",
    "    ('DLinear', 'long-term-forecast', 'Weather', 720, 'MSE', 0.345),\n",
    "    ('DLinear', 'long-term-forecast', 'Weather', 720, 'MAE', 0.381),\n",
    "\n",
    "    # Informer Model\n",
    "    ('Informer', 'long-term-forecast', 'ECL', 96, 'MSE', 0.274),\n",
    "    ('Informer', 'long-term-forecast', 'ECL', 96, 'MAE', 0.268),\n",
    "    ('Informer', 'long-term-forecast', 'ECL', 192, 'MSE', 0.296),\n",
    "    ('Informer', 'long-term-forecast', 'ECL', 192, 'MAE', 0.386),\n",
    "    ('Informer', 'long-term-forecast', 'ECL', 336, 'MSE', 0.300),\n",
    "    ('Informer', 'long-term-forecast', 'ECL', 336, 'MAE', 0.394),\n",
    "    ('Informer', 'long-term-forecast', 'ECL', 720, 'MSE', 0.373),\n",
    "    ('Informer', 'long-term-forecast', 'ECL', 720, 'MAE', 0.439),\n",
    "    \n",
    "    ('Informer', 'long-term-forecast', 'Traffic', 96, 'MSE', 0.719),\n",
    "    ('Informer', 'long-term-forecast', 'Traffic', 96, 'MAE', 0.391),\n",
    "    ('Informer', 'long-term-forecast', 'Traffic', 192, 'MSE', 0.696),\n",
    "    ('Informer', 'long-term-forecast', 'Traffic', 192, 'MAE', 0.379),\n",
    "    ('Informer', 'long-term-forecast', 'Traffic', 336, 'MSE', 0.777),\n",
    "    ('Informer', 'long-term-forecast', 'Traffic', 336, 'MAE', 0.420),\n",
    "    ('Informer', 'long-term-forecast', 'Traffic', 720, 'MSE', 0.864),\n",
    "    ('Informer', 'long-term-forecast', 'Traffic', 720, 'MAE', 0.472),\n",
    "\n",
    "    ('Informer', 'long-term-forecast', 'Weather', 96, 'MSE', 0.300),\n",
    "    ('Informer', 'long-term-forecast', 'Weather', 96, 'MAE', 0.384),\n",
    "    ('Informer', 'long-term-forecast', 'Weather', 192, 'MSE', 0.598),\n",
    "    ('Informer', 'long-term-forecast', 'Weather', 192, 'MAE', 0.544),\n",
    "    ('Informer', 'long-term-forecast', 'Weather', 336, 'MSE', 0.578),\n",
    "    ('Informer', 'long-term-forecast', 'Weather', 336, 'MAE', 0.523),\n",
    "    ('Informer', 'long-term-forecast', 'Weather', 720, 'MSE', 1.059),\n",
    "    ('Informer', 'long-term-forecast', 'Weather', 720, 'MAE', 0.741),\n",
    "    \n",
    "    # Timer Model\n",
    "    ('Timer', 'long-term-forecast', 'ECL', 96, 'MSE', 0.129),\n",
    "    ('Timer', 'long-term-forecast', 'ECL', 96, 'MAE', 0.221),\n",
    "    ('Timer', 'long-term-forecast', 'ECL', 192, 'MSE', 0.148),\n",
    "    ('Timer', 'long-term-forecast', 'ECL', 192, 'MAE', 0.239),\n",
    "    ('Timer', 'long-term-forecast', 'ECL', 336, 'MSE', 0.164),\n",
    "    ('Timer', 'long-term-forecast', 'ECL', 336, 'MAE', 0.256),\n",
    "    ('Timer', 'long-term-forecast', 'ECL', 720, 'MSE', 0.201),\n",
    "    ('Timer', 'long-term-forecast', 'ECL', 720, 'MAE', 0.289),\n",
    "    \n",
    "    ('Timer', 'long-term-forecast', 'Traffic', 96, 'MSE', 0.348),\n",
    "    ('Timer', 'long-term-forecast', 'Traffic', 96, 'MAE', 0.240),\n",
    "    ('Timer', 'long-term-forecast', 'Traffic', 192, 'MSE', 0.369),\n",
    "    ('Timer', 'long-term-forecast', 'Traffic', 192, 'MAE', 0.250),\n",
    "    ('Timer', 'long-term-forecast', 'Traffic', 336, 'MSE', 0.388),\n",
    "    ('Timer', 'long-term-forecast', 'Traffic', 336, 'MAE', 0.260),\n",
    "    ('Timer', 'long-term-forecast', 'Traffic', 720, 'MSE', 0.431),\n",
    "    ('Timer', 'long-term-forecast', 'Traffic', 720, 'MAE', 0.285),\n",
    "\n",
    "    ('Timer', 'long-term-forecast', 'Weather', 96, 'MSE', 0.151),\n",
    "    ('Timer', 'long-term-forecast', 'Weather', 96, 'MAE', 0.202),\n",
    "    ('Timer', 'long-term-forecast', 'Weather', 192, 'MSE', 0.196),\n",
    "    ('Timer', 'long-term-forecast', 'Weather', 192, 'MAE', 0.245),\n",
    "    ('Timer', 'long-term-forecast', 'Weather', 336, 'MSE', 0.249),\n",
    "    ('Timer', 'long-term-forecast', 'Weather', 336, 'MAE', 0.288),\n",
    "    ('Timer', 'long-term-forecast', 'Weather', 720, 'MSE', 0.330),\n",
    "    ('Timer', 'long-term-forecast', 'Weather', 720, 'MAE', 0.344),\n",
    "\n",
    "    # Moirai Model\n",
    "    ('Moirai', 'long-term-forecast', 'ECL', 96, 'MSE', 0.130),\n",
    "    ('Moirai', 'long-term-forecast', 'ECL', 96, 'MAE', 0.225),\n",
    "    ('Moirai', 'long-term-forecast', 'ECL', 192, 'MSE', 0.150),\n",
    "    ('Moirai', 'long-term-forecast', 'ECL', 192, 'MAE', 0.244),\n",
    "    ('Moirai', 'long-term-forecast', 'ECL', 336, 'MSE', 0.166),\n",
    "    ('Moirai', 'long-term-forecast', 'ECL', 336, 'MAE', 0.262),\n",
    "    ('Moirai', 'long-term-forecast', 'ECL', 720, 'MSE', 0.206),\n",
    "    ('Moirai', 'long-term-forecast', 'ECL', 720, 'MAE', 0.297),\n",
    "    \n",
    "    ('Moirai', 'long-term-forecast', 'Traffic', 96, 'MSE', 0.359),\n",
    "    ('Moirai', 'long-term-forecast', 'Traffic', 96, 'MAE', 0.250),\n",
    "    ('Moirai', 'long-term-forecast', 'Traffic', 192, 'MSE', 0.373),\n",
    "    ('Moirai', 'long-term-forecast', 'Traffic', 192, 'MAE', 0.257),\n",
    "    ('Moirai', 'long-term-forecast', 'Traffic', 336, 'MSE', 0.386),\n",
    "    ('Moirai', 'long-term-forecast', 'Traffic', 336, 'MAE', 0.265),\n",
    "    ('Moirai', 'long-term-forecast', 'Traffic', 720, 'MSE', 0.421),\n",
    "    ('Moirai', 'long-term-forecast', 'Traffic', 720, 'MAE', 0.286),\n",
    "\n",
    "    ('Moirai', 'long-term-forecast', 'Weather', 96, 'MSE', 0.152),\n",
    "    ('Moirai', 'long-term-forecast', 'Weather', 96, 'MAE', 0.206),\n",
    "    ('Moirai', 'long-term-forecast', 'Weather', 192, 'MSE', 0.198),\n",
    "    ('Moirai', 'long-term-forecast', 'Weather', 192, 'MAE', 0.249),\n",
    "    ('Moirai', 'long-term-forecast', 'Weather', 336, 'MSE', 0.251),\n",
    "    ('Moirai', 'long-term-forecast', 'Weather', 336, 'MAE', 0.291),\n",
    "    ('Moirai', 'long-term-forecast', 'Weather', 720, 'MSE', 0.322),\n",
    "    ('Moirai', 'long-term-forecast', 'Weather', 720, 'MAE', 0.340),\n",
    "]\n",
    "\n",
    "cursor.executemany('''\n",
    "    INSERT INTO Results (model_name, task_type, dataset_name, seq_len, metric, value)\n",
    "    VALUES (?, ?, ?, ?, ?, ?)\n",
    "''', long_forecast_data)\n",
    "\n",
    "conn.commit()\n",
    "cursor.close()\n",
    "conn.close()\n"
   ],
   "id": "f6ef33941bd37391",
   "outputs": [],
   "execution_count": 5
  },
  {
   "metadata": {},
   "cell_type": "markdown",
   "source": "以上数据仅为用于演示的小部分数据，若需要导入全部预置数据库记录，请运行脚本./jupyter/sql.py快速导入。",
   "id": "146332422a6a3a95"
  },
  {
   "metadata": {},
   "cell_type": "markdown",
   "source": "## 6. 模型评测结果筛选",
   "id": "f6dab3fb77b0f523"
  },
  {
   "metadata": {
    "ExecuteTime": {
     "end_time": "2024-10-29T13:26:42.682269Z",
     "start_time": "2024-10-29T13:26:42.586704Z"
    }
   },
   "cell_type": "code",
   "source": [
    "import sqlite3\n",
    "from sql import model_filtrate\n",
    "conn = sqlite3.connect('results.db')\n",
    "cursor = conn.cursor()\n",
    "cursor = model_filtrate(cursor, show='model_name, dataset_name, metric, seq_len, value',table='Results', dataset_name='ECL', metric='MSE', seq_len=96, orderBy='value')\n",
    "res = cursor.fetchall()\n",
    "for row in res:\n",
    "    print(row)\n",
    "cursor.close()\n",
    "conn.close()"
   ],
   "id": "aaf197c07505ebac",
   "outputs": [
    {
     "name": "stdout",
     "output_type": "stream",
     "text": [
      "sql input command:  SELECT distinct model_name, dataset_name, metric, seq_len, value FROM Results  WHERE 1 AND dataset_name='ECL' AND seq_len='96' AND metric='MSE' ORDER BY value\n",
      "('Timer', 'ECL', 'MSE', 96, 0.129)\n",
      "('Moirai', 'ECL', 'MSE', 96, 0.13)\n",
      "('TimesNet', 'ECL', 'MSE', 96, 0.168)\n",
      "('DLinear', 'ECL', 'MSE', 96, 0.197)\n",
      "('Informer', 'ECL', 'MSE', 96, 0.274)\n"
     ]
    }
   ],
   "execution_count": 6
  }
 ],
 "metadata": {
  "kernelspec": {
   "display_name": "Python 3",
   "language": "python",
   "name": "python3"
  },
  "language_info": {
   "codemirror_mode": {
    "name": "ipython",
    "version": 2
   },
   "file_extension": ".py",
   "mimetype": "text/x-python",
   "name": "python",
   "nbconvert_exporter": "python",
   "pygments_lexer": "ipython2",
   "version": "2.7.6"
  }
 },
 "nbformat": 4,
 "nbformat_minor": 5
}
