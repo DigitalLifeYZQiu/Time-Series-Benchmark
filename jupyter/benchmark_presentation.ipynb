{
 "cells": [
  {
   "metadata": {},
   "cell_type": "markdown",
   "source": [
    "# 时间序列模型筛选过程示例\n",
    "\n",
    "## 1. 导入依赖库\n",
    "模型测试结果将存储在项目根路径`results.db`中。"
   ],
   "id": "5b182bb79297e28b"
  },
  {
   "cell_type": "code",
   "id": "initial_id",
   "metadata": {
    "collapsed": true,
    "ExecuteTime": {
     "end_time": "2024-10-29T10:15:57.769745Z",
     "start_time": "2024-10-29T10:15:57.764516Z"
    }
   },
   "source": "import sqlite3",
   "outputs": [],
   "execution_count": 2
  },
  {
   "metadata": {},
   "cell_type": "markdown",
   "source": [
    "## 2. 连接数据库\n",
    "\n",
    "使用`sqlite3.connect`方法连接数据库，若数据库未事先创建，代码将自动创建空数据库。"
   ],
   "id": "13a8727fdb527088"
  },
  {
   "metadata": {
    "ExecuteTime": {
     "end_time": "2024-10-29T10:16:07.704995Z",
     "start_time": "2024-10-29T10:16:07.699443Z"
    }
   },
   "cell_type": "code",
   "source": "conn = sqlite3.connect('results.db')",
   "id": "49f40f19fdaa34bc",
   "outputs": [],
   "execution_count": 4
  },
  {
   "metadata": {},
   "cell_type": "markdown",
   "source": [
    "## 3. 创建游标对象\n",
    "连接数据库后，使用`cursor()`方法创建游标对象，为后续执行SQL命令做准备。"
   ],
   "id": "c5091adb9c376ad1"
  },
  {
   "metadata": {
    "ExecuteTime": {
     "end_time": "2024-10-29T10:16:17.206768Z",
     "start_time": "2024-10-29T10:16:17.201614Z"
    }
   },
   "cell_type": "code",
   "source": "cursor = conn.cursor()",
   "id": "b84123fdb60d1470",
   "outputs": [],
   "execution_count": 6
  },
  {
   "metadata": {},
   "cell_type": "markdown",
   "source": [
    "## 4. 创建数据库表\n",
    "使用`cursor.execute()`方法在python中执行`sqlite`命令。此处创建了一个名为`Results`的数据表，表中数据条目如下：\n",
    "- `id`：数据记录序号，整数类型。是数据表主键。\n",
    "- `model_name`：测试模型名称，文本类型。\n",
    "- `task_type`：测试任务类型名称，文本类型。测试任务类型限制为五种主要的任务之一（短期预测、长期预测、分类、异常检测、填补）\n",
    "- `dataset_name `：测试数据集名称，文本类型。\n",
    "- `seq_len`：测试数据输入长度，整数类型。\n",
    "- `metric`：测试评估算法，文本类型。\n",
    "- `value`：测试评估结果，实数类型。\n"
   ],
   "id": "c82a41b093fb27ea"
  },
  {
   "metadata": {
    "ExecuteTime": {
     "end_time": "2024-10-29T09:24:10.740707Z",
     "start_time": "2024-10-29T09:24:10.730395Z"
    }
   },
   "cell_type": "code",
   "source": [
    "cursor.execute('''\n",
    "    CREATE TABLE IF NOT EXISTS Results (\n",
    "        id INTEGER PRIMARY KEY,\n",
    "        model_name TEXT,\n",
    "        task_type TEXT CHECK(task_type IN ('classification', 'long-term-forecast', 'short-term-forecast', 'anomaly', 'imputation')),\n",
    "        dataset_name TEXT,\n",
    "        seq_len INTEGER,\n",
    "        metric TEXT,\n",
    "        value REAL\n",
    "    )\n",
    "''')"
   ],
   "id": "204b42d42d8ec1fb",
   "outputs": [
    {
     "data": {
      "text/plain": [
       "<sqlite3.Cursor at 0x7fe7d4f45040>"
      ]
     },
     "execution_count": 24,
     "metadata": {},
     "output_type": "execute_result"
    }
   ],
   "execution_count": 24
  },
  {
   "metadata": {},
   "cell_type": "markdown",
   "source": [
    "## 5. 数据构建与数据库写入\n",
    "数据记录以元组列表形式存储，在下面的代码块中，我们创建了一个名为`data_example`的样例数据。这个数据中包含了TimesNet、Dlinear与Informer在ECL数据长期预测任务上输入长度96设置场景下的MSE结果。我们使用cursor.executemany()方法将包含多条数据的dataexample插入数据库中。\n"
   ],
   "id": "3e2e1b78c8e1fa51"
  },
  {
   "metadata": {
    "ExecuteTime": {
     "end_time": "2024-10-29T07:55:39.900163Z",
     "start_time": "2024-10-29T07:55:39.893587Z"
    }
   },
   "cell_type": "code",
   "source": [
    "data_example = [\n",
    "    ('TimesNet', 'long-term-forecast', 'ECL', 96, 'MSE', 0.168),\n",
    "    ('DLinear', 'long-term-forecast', 'ECL', 96, 'MSE', 0.197),\n",
    "    ('Informer', 'long-term-forecast', 'ECL', 96, 'MSE', 0.274),\n",
    "]\n",
    "cursor.executemany('''\n",
    "    INSERT INTO Results (model_name, task_type, dataset_name, seq_len, metric, value)\n",
    "    VALUES (?, ?, ?, ?, ?, ?)\n",
    "''', data_example)"
   ],
   "id": "f6ef33941bd37391",
   "outputs": [],
   "execution_count": 6
  },
  {
   "metadata": {},
   "cell_type": "markdown",
   "source": "以上数据仅为用于演示的小部分数据，若需要导入全部预置数据库记录，请运行脚本./jupyter/sql.py快速导入。",
   "id": "146332422a6a3a95"
  },
  {
   "metadata": {},
   "cell_type": "markdown",
   "source": "## 6. 模型评测结果筛选",
   "id": "f6dab3fb77b0f523"
  },
  {
   "metadata": {
    "ExecuteTime": {
     "end_time": "2024-10-29T10:24:02.020030Z",
     "start_time": "2024-10-29T10:24:02.013172Z"
    }
   },
   "cell_type": "code",
   "source": [
    "# cursor.execute(\"SELECT model_name, metric, value FROM Results ORDER BY value ASC\")\n",
    "cursor.execute(\"SELECT model_name, dataset_name, metric,value FROM Results WHERE dataset_name='ECL' AND metric='MSE' AND seq_len=96 \")\n",
    "rows = cursor.fetchall()\n",
    "print(rows)"
   ],
   "id": "e455f8d3303caa13",
   "outputs": [
    {
     "name": "stdout",
     "output_type": "stream",
     "text": [
      "[('TimesNet', 'ECL', 'MSE', 0.168), ('DLinear', 'ECL', 'MSE', 0.197), ('Informer', 'ECL', 'MSE', 0.274), ('TimesNet', 'ECL', 'MSE', 0.168), ('DLinear', 'ECL', 'MSE', 0.197), ('Informer', 'ECL', 'MSE', 0.274)]\n"
     ]
    }
   ],
   "execution_count": 14
  },
  {
   "metadata": {},
   "cell_type": "markdown",
   "source": "## 7. 关闭数据库连接",
   "id": "e9b8431d30b79450"
  },
  {
   "metadata": {
    "ExecuteTime": {
     "end_time": "2024-10-29T10:29:20.465844Z",
     "start_time": "2024-10-29T10:29:20.459682Z"
    }
   },
   "cell_type": "code",
   "source": [
    "conn.commit()\n",
    "cursor.close()\n",
    "conn.close()"
   ],
   "id": "c3842e1e7639fd03",
   "outputs": [],
   "execution_count": 15
  }
 ],
 "metadata": {
  "kernelspec": {
   "display_name": "Python 3",
   "language": "python",
   "name": "python3"
  },
  "language_info": {
   "codemirror_mode": {
    "name": "ipython",
    "version": 2
   },
   "file_extension": ".py",
   "mimetype": "text/x-python",
   "name": "python",
   "nbconvert_exporter": "python",
   "pygments_lexer": "ipython2",
   "version": "2.7.6"
  }
 },
 "nbformat": 4,
 "nbformat_minor": 5
}
