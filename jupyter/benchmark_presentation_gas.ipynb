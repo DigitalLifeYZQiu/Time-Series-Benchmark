{
 "cells": [
  {
   "cell_type": "markdown",
   "id": "5b182bb79297e28b",
   "metadata": {},
   "source": [
    "# 时间序列模型筛选过程示例\n",
    "\n",
    "## 1. 导入依赖库\n",
    "模型测试结果将存储在项目根路径`results.db`中。"
   ]
  },
  {
   "cell_type": "code",
   "execution_count": 1,
   "id": "initial_id",
   "metadata": {
    "ExecuteTime": {
     "end_time": "2024-10-29T16:19:24.905893Z",
     "start_time": "2024-10-29T16:19:24.893395Z"
    },
    "collapsed": true
   },
   "outputs": [],
   "source": [
    "import sqlite3"
   ]
  },
  {
   "cell_type": "markdown",
   "id": "13a8727fdb527088",
   "metadata": {},
   "source": [
    "## 2. 连接数据库\n",
    "\n",
    "使用`sqlite3.connect`方法连接数据库，若数据库未事先创建，代码将自动创建空数据库。"
   ]
  },
  {
   "cell_type": "code",
   "execution_count": 2,
   "id": "49f40f19fdaa34bc",
   "metadata": {
    "ExecuteTime": {
     "end_time": "2024-10-29T16:19:25.026287Z",
     "start_time": "2024-10-29T16:19:24.943567Z"
    }
   },
   "outputs": [],
   "source": [
    "conn = sqlite3.connect('results.db')"
   ]
  },
  {
   "cell_type": "markdown",
   "id": "c5091adb9c376ad1",
   "metadata": {},
   "source": [
    "## 3. 创建游标对象\n",
    "连接数据库后，使用`cursor()`方法创建游标对象，为后续执行SQL命令做准备。"
   ]
  },
  {
   "cell_type": "code",
   "execution_count": 3,
   "id": "b84123fdb60d1470",
   "metadata": {
    "ExecuteTime": {
     "end_time": "2024-10-29T16:19:25.199161Z",
     "start_time": "2024-10-29T16:19:25.196149Z"
    }
   },
   "outputs": [],
   "source": [
    "cursor = conn.cursor()"
   ]
  },
  {
   "cell_type": "markdown",
   "id": "c82a41b093fb27ea",
   "metadata": {},
   "source": [
    "## 4. 创建数据库表\n",
    "使用`cursor.execute()`方法在python中执行`sqlite`命令。此处创建了一个名为`Results`的数据表，表中数据条目如下：\n",
    "- `id`：数据记录序号，整数类型。是数据表主键。\n",
    "- `model_name`：测试模型名称，文本类型。\n",
    "- `task_type`：测试任务类型名称，文本类型。测试任务类型限制为五种主要的任务之一（短期预测、长期预测、分类、异常检测、填补）\n",
    "- `dataset_name `：测试数据集名称，文本类型。\n",
    "- `seq_len`：测试数据输入长度，整数类型。\n",
    "- `metric`：测试评估算法，文本类型。\n",
    "- `value`：测试评估结果，实数类型。\n"
   ]
  },
  {
   "cell_type": "code",
   "execution_count": 4,
   "id": "204b42d42d8ec1fb",
   "metadata": {
    "ExecuteTime": {
     "end_time": "2024-10-29T16:19:25.333768Z",
     "start_time": "2024-10-29T16:19:25.253937Z"
    }
   },
   "outputs": [
    {
     "data": {
      "text/plain": [
       "<sqlite3.Cursor at 0x7f6feac2e5c0>"
      ]
     },
     "execution_count": 4,
     "metadata": {},
     "output_type": "execute_result"
    }
   ],
   "source": [
    "cursor.execute('''\n",
    "    CREATE TABLE IF NOT EXISTS Results (\n",
    "        id INTEGER PRIMARY KEY,\n",
    "        model_name TEXT,\n",
    "        task_type TEXT CHECK(task_type IN ('long-term-forecast')),\n",
    "        dataset_name TEXT,\n",
    "        seq_len INTEGER,\n",
    "        metric TEXT,\n",
    "        value REAL\n",
    "    )\n",
    "''')"
   ]
  },
  {
   "cell_type": "markdown",
   "id": "3e2e1b78c8e1fa51",
   "metadata": {},
   "source": [
    "## 5. 数据构建与数据库写入\n",
    "数据记录以元组列表形式存储，在下面的代码块中，我们创建了一个名为`data_example`的样例数据。这个数据中包含了TimesNet、Dlinear与Informer在ECL数据长期预测任务上输入长度96设置场景下的MSE结果。我们使用cursor.executemany()方法将包含多条数据的dataexample插入数据库中。\n"
   ]
  },
  {
   "cell_type": "code",
   "execution_count": null,
   "id": "f6ef33941bd37391",
   "metadata": {
    "ExecuteTime": {
     "end_time": "2024-10-29T16:19:25.590016Z",
     "start_time": "2024-10-29T16:19:25.419244Z"
    }
   },
   "outputs": [],
   "source": [
    "long_forecast_data = [\n",
    "    ('DLinear', 'long-term-forecast', 'Gas', 96, 'MSE', 1.637),\n",
    "    ('DLinear', 'long-term-forecast', 'Gas', 192, 'MSE', 1.683),\n",
    "    ('DLinear', 'long-term-forecast', 'Gas', 336, 'MSE', 1.658),\n",
    "    ('DLinear', 'long-term-forecast', 'Gas', 720, 'MSE', 1.618),\n",
    "    \n",
    "    ('PatchTST', 'long-term-forecast', 'Gas', 96, 'MSE', 1.750),\n",
    "    ('PatchTST', 'long-term-forecast', 'Gas', 192, 'MSE', 1.800),\n",
    "    ('PatchTST', 'long-term-forecast', 'Gas', 336, 'MSE', 1.991),\n",
    "    ('PatchTST', 'long-term-forecast', 'Gas', 720, 'MSE', 1.981),\n",
    "\n",
    "    ('iTransformer', 'long-term-forecast', 'Gas', 96, 'MSE', 1.706),\n",
    "    ('iTransformer', 'long-term-forecast', 'Gas', 192, 'MSE', 1.772),\n",
    "    ('iTransformer', 'long-term-forecast', 'Gas', 336, 'MSE', 1.970),\n",
    "    ('iTransformer', 'long-term-forecast', 'Gas', 720, 'MSE', 2.025),\n",
    "]\n",
    "\n",
    "cursor.executemany('''\n",
    "    INSERT INTO Results (model_name, task_type, dataset_name, seq_len, metric, value)\n",
    "    VALUES (?, ?, ?, ?, ?, ?)\n",
    "''', long_forecast_data)\n",
    "\n",
    "conn.commit()\n",
    "cursor.close()\n",
    "conn.close()\n"
   ]
  },
  {
   "cell_type": "markdown",
   "id": "146332422a6a3a95",
   "metadata": {},
   "source": [
    "以上数据仅为用于演示的小部分数据，若需要导入全部预置数据库记录，请运行脚本./jupyter/sql.py快速导入。"
   ]
  },
  {
   "cell_type": "markdown",
   "id": "f6dab3fb77b0f523",
   "metadata": {},
   "source": [
    "## 时序模型算法筛选\n",
    "使用函数`model_filtrate()`使用评测结果对模型进行筛选。函数参数如下：\n",
    "- `model_name`：模型名称，用于寻找与指定模型名相同的数据。\n",
    "- `task_type`：任务类型名称，用于寻找与指定任务类型相同的数据。\n",
    "- `dataset_name`：测试数据集名称，用于寻找与指定测试数据集相同的数据。\n",
    "- `seq_len`：模型输入长度，用于寻找与指定模型输入长度相同的数据。\n",
    "- `metric`：模型评测算法，用于寻找与指定模型评测算法相同的数据。\n",
    "- `orderBy`：返回结果排序。"
   ]
  },
  {
   "cell_type": "code",
   "execution_count": 1,
   "id": "4ec31ab76f4d7d2a",
   "metadata": {
    "ExecuteTime": {
     "end_time": "2024-10-29T16:38:32.185280Z",
     "start_time": "2024-10-29T16:38:32.063759Z"
    }
   },
   "outputs": [
    {
     "name": "stdout",
     "output_type": "stream",
     "text": [
      "Connection established to ---> results.db\n",
      "Reading from table name ---> Results\n",
      "sql input command:  SELECT distinct model_name, value FROM Results  WHERE 1 AND model_name IN('TimesNet', 'Timer', 'Moirai') AND dataset_name='ECL' AND seq_len='96' AND metric='MSE'\n",
      "('TimesNet', 0.168)\n",
      "('Timer', 0.129)\n",
      "('Moirai', 0.13)\n"
     ]
    }
   ],
   "source": [
    "from sql import model_filter\n",
    "res = model_filter(model_name=('TimesNet','Timer','Moirai'), dataset_name='ECL', metric='MSE', seq_len=96)\n",
    "for row in res:\n",
    "    print(row)"
   ]
  }
 ],
 "metadata": {
  "kernelspec": {
   "display_name": "Python 3",
   "language": "python",
   "name": "python3"
  },
  "language_info": {
   "codemirror_mode": {
    "name": "ipython",
    "version": 2
   },
   "file_extension": ".py",
   "mimetype": "text/x-python",
   "name": "python",
   "nbconvert_exporter": "python",
   "pygments_lexer": "ipython2",
   "version": "2.7.6"
  }
 },
 "nbformat": 4,
 "nbformat_minor": 5
}
